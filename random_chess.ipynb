{
 "metadata": {
  "name": "",
  "signature": "sha256:2feb30a53439bc3de13e890c26e7dc8d852e7be99e4b1b10a01b7e4fce0cc3b0"
 },
 "nbformat": 3,
 "nbformat_minor": 0,
 "worksheets": [
  {
   "cells": [
    {
     "cell_type": "code",
     "collapsed": false,
     "input": [
      "import random\n",
      "from platform import python_version\n",
      "\n",
      "print('Python version: {v}'.format(v=python_version()))"
     ],
     "language": "python",
     "metadata": {},
     "outputs": [
      {
       "output_type": "stream",
       "stream": "stdout",
       "text": [
        "Python version: 2.7.12\n"
       ]
      }
     ],
     "prompt_number": 1
    },
    {
     "cell_type": "code",
     "collapsed": false,
     "input": [
      "class RandomChess:\n",
      "    \"\"\"\n",
      "    RandomChess is a class for creating random first rank according to a certain random mode which\n",
      "    specifies the rules with which the randomly shuffled peices should be situated\n",
      "    \"\"\"\n",
      "    \n",
      "    import random\n",
      "    \n",
      "    def __init__(self):\n",
      "        # firstRank=['rookKingSide','knightKingSide','bishopKingSide','king','queen','bishopQueenSide','knightQueenSide','rookQueenSide']\n",
      "        # firstRank=[u'\\u2656'.encode('utf-8'),u'\\u2658'.encode('utf-8'),u'\\u2657'.encode('utf-8'),u'\\u2654'.encode('utf-8'),\n",
      "#            u'\\u2655'.encode('utf-8'),u'\\u2657'.encode('utf-8'),u'\\u2658'.encode('utf-8'),u'\\u2656'.encode('utf-8')]\n",
      "        self._firstRank=['\u2656','\u2658','\u2657','\u2654','\u2655','\u2657','\u2658','\u2656']\n",
      "        self._ShuffledFirstRank={'firstRank':['\u2656','\u2658','\u2657','\u2654','\u2655','\u2657','\u2658','\u2656'],\n",
      "                                'state':{'KingPos':3,'RookPos':[0,7],'BishopPos':[2,5]}}\n",
      "    @property    \n",
      "    def ShuffledFirstRank(self):  \n",
      "        print('getting ShuffledFirstRank...')\n",
      "        return self._ShuffledFirstRank\n",
      "    \n",
      "    def ShuffleFirstRank(self,RandomMode=None):\n",
      "            l=self._ShuffledFirstRank['firstRank']\n",
      "            n=len(l)\n",
      "            RookfirstPos=-1\n",
      "            RooksecPos=-1\n",
      "            kingPos=-1\n",
      "            bishopFirstPos=-1\n",
      "            bishopSecPos=-1\n",
      "\n",
      "            for i in range(n):\n",
      "\n",
      "                indRandom=random.randint(i,n-1)\n",
      "                l[indRandom],l[i]=l[i],l[indRandom]\n",
      "\n",
      "                p=l[i]\n",
      "                \n",
      "                if p==self._firstRank[0] and RookfirstPos>=0:\n",
      "                    RooksecPos=i\n",
      "                elif p==self._firstRank[0]:\n",
      "                    RookfirstPos=i\n",
      "                elif p==self._firstRank[2] and bishopFirstPos>=0:\n",
      "                    bishopSecPos=i\n",
      "                elif p==self._firstRank[2]:\n",
      "                    bishopFirstPos=i\n",
      "                elif p==self._firstRank[3]:\n",
      "                    kingPos=i\n",
      "            \n",
      "            self._ShuffledFirstRank['state']['KingPos']=kingPos\n",
      "            self._ShuffledFirstRank['state']['RookPos']=[RookfirstPos,RooksecPos]\n",
      "            self._ShuffledFirstRank['state']['BishopPos']=[bishopFirstPos,bishopSecPos]\n",
      "            \n",
      "            if RandomMode is not None:\n",
      "                if RandomMode=='Fischer':\n",
      "                    if not ((bishopFirstPos+bishopSecPos)% 2==1 and kingPos>RookfirstPos and kingPos<RooksecPos):\n",
      "                        \n",
      "                        self._ShuffledFirstRank={'firstRank':['\u2656','\u2658','\u2657','\u2654','\u2655','\u2657','\u2658','\u2656'],\n",
      "                                'state':{'KingPos':3,'RookPos':[0,7],'BishopPos':[2,5]}}\n",
      "                    else:    \n",
      "                        return False\n",
      "            return True\n",
      "                \n",
      "    def printFirstRank(self):\n",
      "        print(repr(self._ShuffledFirstRank['firstRank']).decode('string-escape'))\n",
      "           "
     ],
     "language": "python",
     "metadata": {},
     "outputs": [],
     "prompt_number": 156
    },
    {
     "cell_type": "code",
     "collapsed": false,
     "input": [
      "RC=RandomChess()\n",
      "RC.ShuffleFirstRank(RandomMode='Fischer')\n",
      "RC.printFirstRank()"
     ],
     "language": "python",
     "metadata": {},
     "outputs": [
      {
       "output_type": "stream",
       "stream": "stdout",
       "text": [
        "['\u2656', '\u2657', '\u2657', '\u2658', '\u2654', '\u2655', '\u2656', '\u2658']\n"
       ]
      }
     ],
     "prompt_number": 179
    }
   ],
   "metadata": {}
  }
 ]
}